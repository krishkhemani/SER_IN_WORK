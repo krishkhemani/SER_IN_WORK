{
  "nbformat": 4,
  "nbformat_minor": 0,
  "metadata": {
    "kernelspec": {
      "display_name": "Python 3",
      "language": "python",
      "name": "python3"
    },
    "language_info": {
      "codemirror_mode": {
        "name": "ipython",
        "version": 3
      },
      "file_extension": ".py",
      "mimetype": "text/x-python",
      "name": "python",
      "nbconvert_exporter": "python",
      "pygments_lexer": "ipython3",
      "version": "3.7.3"
    },
    "colab": {
      "name": "SK1.ipynb",
      "provenance": []
    }
  },
  "cells": [
    {
      "cell_type": "code",
      "metadata": {
        "colab": {
          "base_uri": "https://localhost:8080/"
        },
        "id": "GXG2KGnfVRwu",
        "outputId": "09b91e1c-feec-4604-a005-1b39d8dae954"
      },
      "source": [
        "!pip install wave"
      ],
      "execution_count": 1,
      "outputs": [
        {
          "output_type": "stream",
          "name": "stdout",
          "text": [
            "Collecting wave\n",
            "  Downloading Wave-0.0.2.zip (38 kB)\n",
            "Building wheels for collected packages: wave\n",
            "  Building wheel for wave (setup.py) ... \u001b[?25l\u001b[?25hdone\n",
            "  Created wheel for wave: filename=Wave-0.0.2-py3-none-any.whl size=1239 sha256=247a8411230ae53bc8c6e37211d1ddde58f9a7c1136f8d54562a8362f6c75683\n",
            "  Stored in directory: /root/.cache/pip/wheels/25/e8/fe/458c7dac00c6abedad6380b9d0ef1a5cbc7c21807df1d30915\n",
            "Successfully built wave\n",
            "Installing collected packages: wave\n",
            "Successfully installed wave-0.0.2\n"
          ]
        }
      ]
    },
    {
      "cell_type": "code",
      "metadata": {
        "colab": {
          "base_uri": "https://localhost:8080/"
        },
        "id": "JsJMRtjuVa1v",
        "outputId": "d956f8d1-5ada-4526-ad8c-d70da641ffec"
      },
      "source": [
        "!pip install python_speech_features "
      ],
      "execution_count": 2,
      "outputs": [
        {
          "output_type": "stream",
          "name": "stdout",
          "text": [
            "Collecting python_speech_features\n",
            "  Downloading python_speech_features-0.6.tar.gz (5.6 kB)\n",
            "Building wheels for collected packages: python-speech-features\n",
            "  Building wheel for python-speech-features (setup.py) ... \u001b[?25l\u001b[?25hdone\n",
            "  Created wheel for python-speech-features: filename=python_speech_features-0.6-py3-none-any.whl size=5888 sha256=fef595c1018e042c494e8965042f105f2710ce9f0eb4c7172004bcc4b5117676\n",
            "  Stored in directory: /root/.cache/pip/wheels/b0/0e/94/28cd6afa3cd5998a63eef99fe31777acd7d758f59cf24839eb\n",
            "Successfully built python-speech-features\n",
            "Installing collected packages: python-speech-features\n",
            "Successfully installed python-speech-features-0.6\n"
          ]
        }
      ]
    },
    {
      "cell_type": "code",
      "metadata": {
        "colab": {
          "base_uri": "https://localhost:8080/"
        },
        "id": "Za4xePdbVax6",
        "outputId": "a82397ea-648d-41b7-a780-2ea29edd7a4f"
      },
      "source": [
        "!pip install pipwin"
      ],
      "execution_count": 3,
      "outputs": [
        {
          "output_type": "stream",
          "name": "stdout",
          "text": [
            "Collecting pipwin\n",
            "  Downloading pipwin-0.5.1.tar.gz (8.8 kB)\n",
            "Requirement already satisfied: docopt in /usr/local/lib/python3.7/dist-packages (from pipwin) (0.6.2)\n",
            "Requirement already satisfied: requests in /usr/local/lib/python3.7/dist-packages (from pipwin) (2.23.0)\n",
            "Collecting pyprind\n",
            "  Downloading PyPrind-2.11.3-py2.py3-none-any.whl (8.4 kB)\n",
            "Requirement already satisfied: six in /usr/local/lib/python3.7/dist-packages (from pipwin) (1.15.0)\n",
            "Collecting beautifulsoup4>=4.9.0\n",
            "  Downloading beautifulsoup4-4.10.0-py3-none-any.whl (97 kB)\n",
            "\u001b[K     |████████████████████████████████| 97 kB 6.5 MB/s \n",
            "\u001b[?25hCollecting js2py\n",
            "  Downloading Js2Py-0.71-py3-none-any.whl (1.0 MB)\n",
            "\u001b[K     |████████████████████████████████| 1.0 MB 48.5 MB/s \n",
            "\u001b[?25hRequirement already satisfied: packaging in /usr/local/lib/python3.7/dist-packages (from pipwin) (21.0)\n",
            "Collecting pySmartDL>=1.3.1\n",
            "  Downloading pySmartDL-1.3.4-py3-none-any.whl (20 kB)\n",
            "Collecting soupsieve>1.2\n",
            "  Downloading soupsieve-2.3-py3-none-any.whl (37 kB)\n",
            "Collecting pyjsparser>=2.5.1\n",
            "  Downloading pyjsparser-2.7.1.tar.gz (24 kB)\n",
            "Requirement already satisfied: tzlocal>=1.2 in /usr/local/lib/python3.7/dist-packages (from js2py->pipwin) (1.5.1)\n",
            "Requirement already satisfied: pytz in /usr/local/lib/python3.7/dist-packages (from tzlocal>=1.2->js2py->pipwin) (2018.9)\n",
            "Requirement already satisfied: pyparsing>=2.0.2 in /usr/local/lib/python3.7/dist-packages (from packaging->pipwin) (2.4.7)\n",
            "Requirement already satisfied: urllib3!=1.25.0,!=1.25.1,<1.26,>=1.21.1 in /usr/local/lib/python3.7/dist-packages (from requests->pipwin) (1.24.3)\n",
            "Requirement already satisfied: chardet<4,>=3.0.2 in /usr/local/lib/python3.7/dist-packages (from requests->pipwin) (3.0.4)\n",
            "Requirement already satisfied: certifi>=2017.4.17 in /usr/local/lib/python3.7/dist-packages (from requests->pipwin) (2021.5.30)\n",
            "Requirement already satisfied: idna<3,>=2.5 in /usr/local/lib/python3.7/dist-packages (from requests->pipwin) (2.10)\n",
            "Building wheels for collected packages: pipwin, pyjsparser\n",
            "  Building wheel for pipwin (setup.py) ... \u001b[?25l\u001b[?25hdone\n",
            "  Created wheel for pipwin: filename=pipwin-0.5.1-py2.py3-none-any.whl size=8792 sha256=15b1fce76ca67911699c61cbab31fdbbf1240028b11e90234176ea9ca229c0f7\n",
            "  Stored in directory: /root/.cache/pip/wheels/4e/f2/06/9024048eece9a22afc7a013395d6de2d345f56185095550d4c\n",
            "  Building wheel for pyjsparser (setup.py) ... \u001b[?25l\u001b[?25hdone\n",
            "  Created wheel for pyjsparser: filename=pyjsparser-2.7.1-py3-none-any.whl size=26001 sha256=0b4bb9b8464a076e72c902b040d04b429d4b103bfed2b436c5c212422ebdddb3\n",
            "  Stored in directory: /root/.cache/pip/wheels/2a/80/ac/dcd2bdbd03dd2b7b7e2bf3e5afbda6a1ab7935bbce314969da\n",
            "Successfully built pipwin pyjsparser\n",
            "Installing collected packages: soupsieve, pyjsparser, pySmartDL, pyprind, js2py, beautifulsoup4, pipwin\n",
            "  Attempting uninstall: beautifulsoup4\n",
            "    Found existing installation: beautifulsoup4 4.6.3\n",
            "    Uninstalling beautifulsoup4-4.6.3:\n",
            "      Successfully uninstalled beautifulsoup4-4.6.3\n",
            "Successfully installed beautifulsoup4-4.10.0 js2py-0.71 pipwin-0.5.1 pySmartDL-1.3.4 pyjsparser-2.7.1 pyprind-2.11.3 soupsieve-2.3\n"
          ]
        }
      ]
    },
    {
      "cell_type": "code",
      "metadata": {
        "colab": {
          "base_uri": "https://localhost:8080/"
        },
        "id": "4iV75-iEVatp",
        "outputId": "bcd87885-f748-445f-9f4d-d148aa5be920"
      },
      "source": [
        "!apt install libasound2-dev portaudio19-dev libportaudio2 libportaudiocpp0 ffmpeg"
      ],
      "execution_count": 4,
      "outputs": [
        {
          "output_type": "stream",
          "name": "stdout",
          "text": [
            "Reading package lists... Done\n",
            "Building dependency tree       \n",
            "Reading state information... Done\n",
            "libasound2-dev is already the newest version (1.1.3-5ubuntu0.6).\n",
            "ffmpeg is already the newest version (7:3.4.8-0ubuntu0.2).\n",
            "Suggested packages:\n",
            "  portaudio19-doc\n",
            "The following NEW packages will be installed:\n",
            "  libportaudio2 libportaudiocpp0 portaudio19-dev\n",
            "0 upgraded, 3 newly installed, 0 to remove and 37 not upgraded.\n",
            "Need to get 184 kB of archives.\n",
            "After this operation, 891 kB of additional disk space will be used.\n",
            "Get:1 http://archive.ubuntu.com/ubuntu bionic/universe amd64 libportaudio2 amd64 19.6.0-1 [64.6 kB]\n",
            "Get:2 http://archive.ubuntu.com/ubuntu bionic/universe amd64 libportaudiocpp0 amd64 19.6.0-1 [15.1 kB]\n",
            "Get:3 http://archive.ubuntu.com/ubuntu bionic/universe amd64 portaudio19-dev amd64 19.6.0-1 [104 kB]\n",
            "Fetched 184 kB in 1s (323 kB/s)\n",
            "Selecting previously unselected package libportaudio2:amd64.\n",
            "(Reading database ... 155219 files and directories currently installed.)\n",
            "Preparing to unpack .../libportaudio2_19.6.0-1_amd64.deb ...\n",
            "Unpacking libportaudio2:amd64 (19.6.0-1) ...\n",
            "Selecting previously unselected package libportaudiocpp0:amd64.\n",
            "Preparing to unpack .../libportaudiocpp0_19.6.0-1_amd64.deb ...\n",
            "Unpacking libportaudiocpp0:amd64 (19.6.0-1) ...\n",
            "Selecting previously unselected package portaudio19-dev:amd64.\n",
            "Preparing to unpack .../portaudio19-dev_19.6.0-1_amd64.deb ...\n",
            "Unpacking portaudio19-dev:amd64 (19.6.0-1) ...\n",
            "Setting up libportaudio2:amd64 (19.6.0-1) ...\n",
            "Setting up libportaudiocpp0:amd64 (19.6.0-1) ...\n",
            "Setting up portaudio19-dev:amd64 (19.6.0-1) ...\n",
            "Processing triggers for libc-bin (2.27-3ubuntu1.3) ...\n",
            "/sbin/ldconfig.real: /usr/local/lib/python3.7/dist-packages/ideep4py/lib/libmkldnn.so.0 is not a symbolic link\n",
            "\n"
          ]
        }
      ]
    },
    {
      "cell_type": "code",
      "metadata": {
        "colab": {
          "base_uri": "https://localhost:8080/"
        },
        "id": "2VZw2hvdVak5",
        "outputId": "0dcf75cd-edf6-4b05-acb8-1169178840f3"
      },
      "source": [
        "!pip install pyaudio"
      ],
      "execution_count": 5,
      "outputs": [
        {
          "output_type": "stream",
          "name": "stdout",
          "text": [
            "Collecting pyaudio\n",
            "  Downloading PyAudio-0.2.11.tar.gz (37 kB)\n",
            "Building wheels for collected packages: pyaudio\n",
            "  Building wheel for pyaudio (setup.py) ... \u001b[?25l\u001b[?25hdone\n",
            "  Created wheel for pyaudio: filename=PyAudio-0.2.11-cp37-cp37m-linux_x86_64.whl size=52611 sha256=9f404ce713f6248b30a251d020fcda2d60ad983c90807a5197f5bc2b99b73049\n",
            "  Stored in directory: /root/.cache/pip/wheels/40/2e/4c/b71e7e96c861a46e6213bc6bb482b94dcf293a92c5e736c1ec\n",
            "Successfully built pyaudio\n",
            "Installing collected packages: pyaudio\n",
            "Successfully installed pyaudio-0.2.11\n"
          ]
        }
      ]
    },
    {
      "cell_type": "code",
      "metadata": {
        "colab": {
          "base_uri": "https://localhost:8080/"
        },
        "id": "i4hMb5tvVjxS",
        "outputId": "b8cb6e0b-ae1e-452d-9035-cca3ca531906"
      },
      "source": [
        "!pip install noisereduce"
      ],
      "execution_count": 6,
      "outputs": [
        {
          "output_type": "stream",
          "name": "stdout",
          "text": [
            "Collecting noisereduce\n",
            "  Downloading noisereduce-2.0.0-py3-none-any.whl (15 kB)\n",
            "Requirement already satisfied: matplotlib in /usr/local/lib/python3.7/dist-packages (from noisereduce) (3.2.2)\n",
            "Requirement already satisfied: numpy in /usr/local/lib/python3.7/dist-packages (from noisereduce) (1.19.5)\n",
            "Requirement already satisfied: joblib in /usr/local/lib/python3.7/dist-packages (from noisereduce) (1.0.1)\n",
            "Requirement already satisfied: scipy in /usr/local/lib/python3.7/dist-packages (from noisereduce) (1.4.1)\n",
            "Requirement already satisfied: librosa in /usr/local/lib/python3.7/dist-packages (from noisereduce) (0.8.1)\n",
            "Requirement already satisfied: tqdm in /usr/local/lib/python3.7/dist-packages (from noisereduce) (4.62.3)\n",
            "Requirement already satisfied: scikit-learn!=0.19.0,>=0.14.0 in /usr/local/lib/python3.7/dist-packages (from librosa->noisereduce) (0.22.2.post1)\n",
            "Requirement already satisfied: soundfile>=0.10.2 in /usr/local/lib/python3.7/dist-packages (from librosa->noisereduce) (0.10.3.post1)\n",
            "Requirement already satisfied: packaging>=20.0 in /usr/local/lib/python3.7/dist-packages (from librosa->noisereduce) (21.0)\n",
            "Requirement already satisfied: audioread>=2.0.0 in /usr/local/lib/python3.7/dist-packages (from librosa->noisereduce) (2.1.9)\n",
            "Requirement already satisfied: pooch>=1.0 in /usr/local/lib/python3.7/dist-packages (from librosa->noisereduce) (1.5.1)\n",
            "Requirement already satisfied: numba>=0.43.0 in /usr/local/lib/python3.7/dist-packages (from librosa->noisereduce) (0.51.2)\n",
            "Requirement already satisfied: resampy>=0.2.2 in /usr/local/lib/python3.7/dist-packages (from librosa->noisereduce) (0.2.2)\n",
            "Requirement already satisfied: decorator>=3.0.0 in /usr/local/lib/python3.7/dist-packages (from librosa->noisereduce) (4.4.2)\n",
            "Requirement already satisfied: setuptools in /usr/local/lib/python3.7/dist-packages (from numba>=0.43.0->librosa->noisereduce) (57.4.0)\n",
            "Requirement already satisfied: llvmlite<0.35,>=0.34.0.dev0 in /usr/local/lib/python3.7/dist-packages (from numba>=0.43.0->librosa->noisereduce) (0.34.0)\n",
            "Requirement already satisfied: pyparsing>=2.0.2 in /usr/local/lib/python3.7/dist-packages (from packaging>=20.0->librosa->noisereduce) (2.4.7)\n",
            "Requirement already satisfied: requests in /usr/local/lib/python3.7/dist-packages (from pooch>=1.0->librosa->noisereduce) (2.23.0)\n",
            "Requirement already satisfied: appdirs in /usr/local/lib/python3.7/dist-packages (from pooch>=1.0->librosa->noisereduce) (1.4.4)\n",
            "Requirement already satisfied: six>=1.3 in /usr/local/lib/python3.7/dist-packages (from resampy>=0.2.2->librosa->noisereduce) (1.15.0)\n",
            "Requirement already satisfied: cffi>=1.0 in /usr/local/lib/python3.7/dist-packages (from soundfile>=0.10.2->librosa->noisereduce) (1.14.6)\n",
            "Requirement already satisfied: pycparser in /usr/local/lib/python3.7/dist-packages (from cffi>=1.0->soundfile>=0.10.2->librosa->noisereduce) (2.20)\n",
            "Requirement already satisfied: cycler>=0.10 in /usr/local/lib/python3.7/dist-packages (from matplotlib->noisereduce) (0.10.0)\n",
            "Requirement already satisfied: python-dateutil>=2.1 in /usr/local/lib/python3.7/dist-packages (from matplotlib->noisereduce) (2.8.2)\n",
            "Requirement already satisfied: kiwisolver>=1.0.1 in /usr/local/lib/python3.7/dist-packages (from matplotlib->noisereduce) (1.3.2)\n",
            "Requirement already satisfied: idna<3,>=2.5 in /usr/local/lib/python3.7/dist-packages (from requests->pooch>=1.0->librosa->noisereduce) (2.10)\n",
            "Requirement already satisfied: urllib3!=1.25.0,!=1.25.1,<1.26,>=1.21.1 in /usr/local/lib/python3.7/dist-packages (from requests->pooch>=1.0->librosa->noisereduce) (1.24.3)\n",
            "Requirement already satisfied: certifi>=2017.4.17 in /usr/local/lib/python3.7/dist-packages (from requests->pooch>=1.0->librosa->noisereduce) (2021.5.30)\n",
            "Requirement already satisfied: chardet<4,>=3.0.2 in /usr/local/lib/python3.7/dist-packages (from requests->pooch>=1.0->librosa->noisereduce) (3.0.4)\n",
            "Installing collected packages: noisereduce\n",
            "Successfully installed noisereduce-2.0.0\n"
          ]
        }
      ]
    },
    {
      "cell_type": "code",
      "metadata": {
        "colab": {
          "base_uri": "https://localhost:8080/"
        },
        "id": "gPlDGujyVndC",
        "outputId": "f11f9971-33de-452d-8f50-c68abfae03e3"
      },
      "source": [
        "!pip install speech-recognition-fork"
      ],
      "execution_count": 7,
      "outputs": [
        {
          "output_type": "stream",
          "name": "stdout",
          "text": [
            "Collecting speech-recognition-fork\n",
            "  Downloading speech_recognition_fork-3.8.1.2021.6.14-py2.py3-none-any.whl (32.8 MB)\n",
            "\u001b[K     |████████████████████████████████| 32.8 MB 58 kB/s \n",
            "\u001b[?25hInstalling collected packages: speech-recognition-fork\n",
            "Successfully installed speech-recognition-fork-3.8.1.2021.6.14\n"
          ]
        }
      ]
    },
    {
      "cell_type": "code",
      "metadata": {
        "id": "3sXGb_aiUgKC"
      },
      "source": [
        "#Install all the Reqiuired Libraries and Packages \n",
        "import os \n",
        "import glob\n",
        "from tqdm import tqdm\n",
        "import pandas as pd\n",
        "import numpy as np\n",
        "import matplotlib.pyplot as plt\n",
        "from scipy.io import wavfile\n",
        "from python_speech_features import mfcc , logfbank\n",
        "import librosa as lr\n",
        "import os, glob, pickle\n",
        "import librosa\n",
        "from scipy import signal\n",
        "import noisereduce as nr\n",
        "from glob import glob\n",
        "import librosa\n",
        "get_ipython().magic('matplotlib inline')\n",
        "#All the Required Packages and Libraies are installed.\n",
        "import soundfile\n",
        "from tensorflow.keras.layers import Conv2D,MaxPool2D, Flatten, LSTM\n",
        "from keras.layers import Dropout,Dense,TimeDistributed\n",
        "from keras.models import Sequential\n",
        "from sklearn.utils.class_weight import compute_class_weight\n",
        "from sklearn.model_selection import train_test_split\n",
        "from sklearn.neural_network import MLPClassifier\n",
        "from sklearn.metrics import accuracy_score"
      ],
      "execution_count": 32,
      "outputs": []
    },
    {
      "cell_type": "code",
      "metadata": {
        "id": "CJe5L9K5xDps",
        "colab": {
          "base_uri": "https://localhost:8080/"
        },
        "outputId": "f7f9dbfe-f0c1-4181-edb8-a0a17ec7bbe9"
      },
      "source": [
        "from google.colab import drive\n",
        "drive.mount('/content/drive',force_remount=True)"
      ],
      "execution_count": 9,
      "outputs": [
        {
          "output_type": "stream",
          "name": "stdout",
          "text": [
            "Mounted at /content/drive\n"
          ]
        }
      ]
    },
    {
      "cell_type": "code",
      "metadata": {
        "colab": {
          "base_uri": "https://localhost:8080/"
        },
        "id": "yTDdPTv6UgKG",
        "outputId": "edd1b686-00ac-43be-f52e-30aeae98eea7"
      },
      "source": [
        "#Loading the required RAVDESS DataSet with length of 1440 Audio Files \n",
        "os.listdir(path='/content/drive/MyDrive/speech-emotion-recognition-ravdess-data')\n",
        "def getListOfFiles(dirName):\n",
        "    listOfFile=os.listdir(dirName)\n",
        "    allFiles=list()\n",
        "    for entry in listOfFile:\n",
        "        fullPath=os.path.join(dirName, entry)\n",
        "        if os.path.isdir(fullPath):\n",
        "            allFiles=allFiles + getListOfFiles(fullPath)\n",
        "        else:\n",
        "            allFiles.append(fullPath)\n",
        "    return allFiles\n",
        "\n",
        "dirName = '/content/drive/MyDrive/speech-emotion-recognition-ravdess-data'\n",
        "listOfFiles = getListOfFiles(dirName)\n",
        "len(listOfFiles)"
      ],
      "execution_count": 33,
      "outputs": [
        {
          "output_type": "execute_result",
          "data": {
            "text/plain": [
              "1439"
            ]
          },
          "metadata": {},
          "execution_count": 33
        }
      ]
    },
    {
      "cell_type": "code",
      "metadata": {
        "id": "fCx_OhjlUgKH"
      },
      "source": [
        "#Use the Speech-Recognition API to get the Raw Text from Audio Files, Though Speech Recognition\n",
        "#is less strong for large chunk of files , so used Error Handling , where when it is not be able to \n",
        "#produce the text of a particular Audio File it prints the statement 'error'.Just for understanding Audio\n",
        "import speech_recognition as sr\n",
        "r=sr.Recognizer()\n",
        "for file in range(0 , len(listOfFiles) , 1):\n",
        "    with sr.AudioFile(listOfFiles[file]) as source:\n",
        "        audio = r.listen(source)\n",
        "        try:\n",
        "            text = r.recognize_google(audio)\n",
        "            print(text)\n",
        "        except:\n",
        "            print('error')"
      ],
      "execution_count": null,
      "outputs": []
    },
    {
      "cell_type": "code",
      "metadata": {
        "id": "eupYNs7vUgKI"
      },
      "source": [
        "#Now Cleaning Step is Performed where:\n",
        "#DOWN SAMPLING OF AUDIO FILES IS DONE  AND PUT MASK OVER IT AND DIRECT INTO CLEAN FOLDER\n",
        "#MASK IS TO REMOVE UNNECESSARY EMPTY VOIVES AROUND THE MAIN AUDIO VOICE \n",
        "def envelope(y , rate, threshold):\n",
        "    mask=[]\n",
        "    y=pd.Series(y).apply(np.abs)\n",
        "    y_mean = y.rolling(window=int(rate/10) ,  min_periods=1 , center = True).mean()\n",
        "    for mean in y_mean:\n",
        "        if mean>threshold:\n",
        "            mask.append(True)\n",
        "        else:\n",
        "            mask.append(False)\n",
        "    return mask"
      ],
      "execution_count": 34,
      "outputs": []
    },
    {
      "cell_type": "code",
      "metadata": {
        "id": "xrs2eqKVUgKI"
      },
      "source": [
        "#Plotting the Basic Graphs for understanding of Audio Files :\n",
        "for file in range(0 , len(listOfFiles) , 1):\n",
        "    audio , sfreq = lr.load(listOfFiles[file])\n",
        "    time = np.arange(0 , len(audio)) / sfreq\n",
        "    \n",
        "    fig ,ax = plt.subplots()\n",
        "    ax.plot(time , audio)\n",
        "    ax.set(xlabel = 'Time (s)' , ylabel = 'Sound Amplitude')\n",
        "    plt.show()\n",
        "    \n",
        "#PLOT THE SEPCTOGRAM\n",
        "for file in range(0 , len(listOfFiles) , 1):\n",
        "     sample_rate , samples = wavfile.read(listOfFiles[file])\n",
        "     frequencies , times, spectrogram = signal.spectrogram(samples, sample_rate) \n",
        "     plt.pcolormesh(times, frequencies, spectrogram)\n",
        "     plt.imshow(spectrogram)\n",
        "     plt.ylabel('Frequency [Hz]')\n",
        "     plt.xlabel('Time [sec]')\n",
        "     plt.show()"
      ],
      "execution_count": null,
      "outputs": []
    },
    {
      "cell_type": "code",
      "metadata": {
        "id": "ana4YtkaUgKJ"
      },
      "source": [
        "#Next Step is In-Depth Visualisation of Audio Fiels and its certain features to plot for.\n",
        "#They are the Plotting Functions to be called later. \n",
        "def plot_signals(signals):\n",
        "    fig , axes = plt.subplots(nrows=2, ncols=5,sharex =False , sharey=True, figsize=(20,5))\n",
        "    fig.suptitle('Time Series' , size=16)\n",
        "    i=0\n",
        "    for x in range(2):\n",
        "        for y in range(5):\n",
        "            axes[x,y].set_title(list(signals.keys())[i])\n",
        "            axes[x,y].plot(list(signals.values())[i])\n",
        "            axes[x,y].get_xaxis().set_visible(False)\n",
        "            axes[x,y].get_yaxis().set_visible(False)\n",
        "            i +=1\n",
        "\n",
        "def plot_fft(fft):\n",
        "    fig , axes = plt.subplots(nrows=2, ncols=5,sharex =False , sharey=True, figsize=(20,5))\n",
        "    fig.suptitle('Fourier Transform' , size=16)\n",
        "    i=0\n",
        "    for x in range(2):\n",
        "        for y in range(5):\n",
        "            data = list(fft.values())[i]\n",
        "            Y,freq = data[0] , data[1]\n",
        "            axes[x,y].set_title(list(fft.keys())[i])\n",
        "            axes[x,y].plot(freq , Y)\n",
        "            axes[x,y].get_xaxis().set_visible(False)\n",
        "            axes[x,y].get_yaxis().set_visible(False)\n",
        "            i +=1\n",
        "    \n",
        "def plot_fbank(fbank):\n",
        "    fig , axes = plt.subplots(nrows=2, ncols=5,sharex =False , sharey=True, figsize=(20,5))\n",
        "    fig.suptitle('Filter Bank Coefficients' , size=16)\n",
        "    i=0\n",
        "    for x in range(2):\n",
        "        for y in range(5):\n",
        "            axes[x,y].set_title(list(fbank.keys())[i])\n",
        "            axes[x,y].imshow(list(fbank.values())[i],cmap='hot', interpolation = 'nearest')\n",
        "            axes[x,y].get_xaxis().set_visible(False)\n",
        "            axes[x,y].get_yaxis().set_visible(False)\n",
        "            i +=1\n",
        "            \n",
        "def plot_mfccs(mfccs):\n",
        "    fig , axes = plt.subplots(nrows=2, ncols=5,sharex =False , sharey=True, figsize=(20,5))\n",
        "    fig.suptitle('Mel Frequency Capstrum  Coefficients' , size=16)\n",
        "    i=0\n",
        "    for x in range(2):\n",
        "        for y in range(5):\n",
        "            axes[x,y].set_title(list(mfccs.keys())[i])\n",
        "            axes[x,y].imshow(list(mfccs.values())[i],\n",
        "                             cmap='hot', interpolation = 'nearest')\n",
        "            axes[x,y].get_xaxis().set_visible(False)\n",
        "            axes[x,y].get_yaxis().set_visible(False)\n",
        "            i +=1\n",
        "\n",
        "def calc_fft(y,rate):\n",
        "    n = len(y)\n",
        "    freq = np.fft.rfftfreq(n , d= 1/rate)\n",
        "    Y= abs(np.fft.rfft(y)/n)\n",
        "    return(Y,freq)"
      ],
      "execution_count": null,
      "outputs": []
    },
    {
      "cell_type": "code",
      "metadata": {
        "id": "Y7k5PqP_UgKL"
      },
      "source": [
        "# Here The Data Set is loaded and plots are Visualised by Calling the Plotting Functions . \n",
        "import matplotlib.pyplot as plt\n",
        "from scipy.io import wavfile as wav\n",
        "from scipy.fftpack import fft\n",
        "import numpy as np\n",
        "for file in range(0 , len(listOfFiles) , 1):\n",
        "    rate, data = wav.read(listOfFiles[file])\n",
        "    fft_out = fft(data)\n",
        "    %matplotlib inline\n",
        "    plt.plot(data, np.abs(fft_out))\n",
        "    plt.show()\n",
        "    \n",
        "signals={}\n",
        "fft={}\n",
        "fbank={}\n",
        "mfccs={}\n",
        "# load data\n",
        "for file in range(0 , len(listOfFiles) , 1):\n",
        "#     rate, data = wavfile.read(listOfFiles[file])\n",
        "     signal,rate =librosa.load(listOfFiles[file] , sr=44100)\n",
        "     mask = envelope(signal , rate , 0.0005)\n",
        "     signals[file] = signal\n",
        "     fft[file] = calc_fft(signal , rate)\n",
        "    \n",
        "     bank = logfbank(signal[:rate] , rate , nfilt = 26, nfft = 1103).T\n",
        "     fbank[file] = bank\n",
        "     mel = mfcc(signal[:rate] , rate , numcep =13 , nfilt = 26 , nfft=1103).T\n",
        "     mfccs[file]=mel\n",
        "\n",
        "plot_signals(signals)\n",
        "plt.show()\n",
        "\n",
        "plot_fft(fft)\n",
        "plt.show()\n",
        "\n",
        "plot_fbank(fbank)\n",
        "plt.show()\n",
        "\n",
        "plot_mfccs(mfccs)\n",
        "plt.show()"
      ],
      "execution_count": null,
      "outputs": []
    },
    {
      "cell_type": "code",
      "metadata": {
        "id": "gjMXaxmQUgKM"
      },
      "source": [
        "#Now Cleaning Step is Performed where:\n",
        "#DOWN SAMPLING OF AUDIO FILES IS DONE  AND PUT MASK OVER IT AND DIRECT INTO CLEAN FOLDER\n",
        "#MASK IS TO REMOVE UNNECESSARY EMPTY VOIVES AROUND THE MAIN AUDIO VOICE \n",
        "def envelope(y , rate, threshold):\n",
        "    mask=[]\n",
        "    y=pd.Series(y).apply(np.abs)\n",
        "    y_mean = y.rolling(window=int(rate/10) ,  min_periods=1 , center = True).mean()\n",
        "    for mean in y_mean:\n",
        "        if mean>threshold:\n",
        "            mask.append(True)\n",
        "        else:\n",
        "            mask.append(False)\n",
        "    return mask"
      ],
      "execution_count": 35,
      "outputs": []
    },
    {
      "cell_type": "code",
      "metadata": {
        "id": "SwbLtAllx0ka",
        "colab": {
          "base_uri": "https://localhost:8080/"
        },
        "outputId": "c87ed00a-2102-45f6-908b-3f19501c1bfb"
      },
      "source": [
        "#The clean Audio Files are redirected to Clean Audio Folder Directory \n",
        "import glob,pickle\n",
        "for file in tqdm(glob.glob(r'/content/drive/MyDrive/speech-emotion-recognition-ravdess-data//**/*.wav')):\n",
        "    file_name = os.path.basename(file)\n",
        "    signal , rate = librosa.load(file, sr=16000)\n",
        "    mask = envelope(signal,rate, 0.0005)\n",
        "    wavfile.write(filename= r'/content/drive/MyDrive/Clean_Speech//'+str(file_name), rate=rate,data=signal[mask])"
      ],
      "execution_count": 36,
      "outputs": [
        {
          "output_type": "stream",
          "name": "stderr",
          "text": [
            "100%|██████████| 1439/1439 [11:26<00:00,  2.10it/s]\n"
          ]
        }
      ]
    },
    {
      "cell_type": "code",
      "metadata": {
        "id": "ZaWf7qFEUgKN"
      },
      "source": [
        "#Feature Extraction of Audio Files Function \n",
        "#Extract features (mfcc, chroma, mel) from a sound file\n",
        "def extract_feature(file_name, mfcc, chroma, mel):\n",
        "    with soundfile.SoundFile(file_name) as sound_file:\n",
        "        X = sound_file.read(dtype=\"float32\")\n",
        "        sample_rate=sound_file.samplerate\n",
        "        if chroma:\n",
        "            stft=np.abs(librosa.stft(X))\n",
        "        result=np.array([])\n",
        "        if mfcc:\n",
        "            mfccs=np.mean(librosa.feature.mfcc(y=X, sr=sample_rate, n_mfcc=40).T, axis=0)\n",
        "        result=np.hstack((result, mfccs))\n",
        "        if chroma:\n",
        "            chroma=np.mean(librosa.feature.chroma_stft(S=stft, sr=sample_rate).T,axis=0)\n",
        "        result=np.hstack((result, chroma))\n",
        "        if mel:\n",
        "            mel=np.mean(librosa.feature.melspectrogram(X, sr=sample_rate).T,axis=0)\n",
        "        result=np.hstack((result, mel))\n",
        "    return result"
      ],
      "execution_count": 37,
      "outputs": []
    },
    {
      "cell_type": "code",
      "metadata": {
        "id": "1OxL99gHUgKN"
      },
      "source": [
        "#Emotions in the RAVDESS dataset to be classified Audio Files based on . \n",
        "emotions={\n",
        "  '01':'neutral',\n",
        "  '02':'calm',\n",
        "  '03':'happy',\n",
        "  '04':'sad',\n",
        "  '05':'angry',\n",
        "  '06':'fearful',\n",
        "  '07':'disgust',\n",
        "  '08':'surprised'\n",
        "}\n",
        "#These are the emotions User wants to observe more :\n",
        "observed_emotions=['calm', 'happy', 'fearful', 'disgust']"
      ],
      "execution_count": 38,
      "outputs": []
    },
    {
      "cell_type": "code",
      "metadata": {
        "id": "JFQ4SnIFUvKJ"
      },
      "source": [
        "#Load the data and extract features for each sound file\n",
        "from glob import glob\n",
        "import os\n",
        "import glob\n",
        "def load_data(test_size=0.1):\n",
        "    x,y=[],[]\n",
        "    answer = 0\n",
        "    for file in glob.glob(r'/content/drive/MyDrive/Clean_Speech/*'):\n",
        "        file_name=os.path.basename(file)\n",
        "        emotion=emotions[file_name.split(\"-\")[2]]\n",
        "        if emotion not in observed_emotions:\n",
        "            answer += 1\n",
        "            continue\n",
        "        feature=extract_feature(file, mfcc=True, chroma=True, mel=True)\n",
        "        x.append(feature)\n",
        "        y.append([emotion,file_name])\n",
        "    return train_test_split(np.array(x), y, test_size=test_size, random_state=9)"
      ],
      "execution_count": 71,
      "outputs": []
    },
    {
      "cell_type": "code",
      "metadata": {
        "id": "2FSra2jrUvNi",
        "colab": {
          "base_uri": "https://localhost:8080/"
        },
        "outputId": "7a05f16a-518a-403a-a531-5e089f285bf3"
      },
      "source": [
        "#Split the dataset\n",
        "import librosa\n",
        "import numpy as np\n",
        "x_train,x_test,y_train,y_test=load_data(test_size=0.1)\n",
        "print(np.shape(x_train),np.shape(x_test), np.shape(y_train),np.shape(y_test))\n",
        "y_test_map = np.array(y_test).T\n",
        "y_test = y_test_map[0]\n",
        "test_filename = y_test_map[1]\n",
        "y_train_map = np.array(y_train).T\n",
        "y_train = y_train_map[0]\n",
        "train_filename = y_train_map[1]\n",
        "print(np.shape(y_train),np.shape(y_test))\n",
        "print(*test_filename,sep=\"\\n\")"
      ],
      "execution_count": 72,
      "outputs": [
        {
          "output_type": "stream",
          "name": "stdout",
          "text": [
            "(691, 180) (77, 180) (691, 2) (77, 2)\n",
            "(691,) (77,)\n",
            "03-01-06-02-02-02-05.wav\n",
            "03-01-02-02-02-02-19.wav\n",
            "03-01-02-02-02-02-11.wav\n",
            "03-01-02-01-01-01-15.wav\n",
            "03-01-07-01-01-02-11.wav\n",
            "03-01-02-02-02-02-23.wav\n",
            "03-01-03-02-01-01-09.wav\n",
            "03-01-06-01-01-01-03.wav\n",
            "03-01-06-01-01-02-23.wav\n",
            "03-01-06-01-01-01-06.wav\n",
            "03-01-02-02-01-01-16.wav\n",
            "03-01-02-01-01-01-05.wav\n",
            "03-01-06-01-01-02-08.wav\n",
            "03-01-02-01-01-02-23.wav\n",
            "03-01-06-01-01-02-24.wav\n",
            "03-01-07-02-01-01-21.wav\n",
            "03-01-06-02-02-02-02.wav\n",
            "03-01-03-02-01-02-09.wav\n",
            "03-01-06-01-01-02-22.wav\n",
            "03-01-02-01-02-01-03.wav\n",
            "03-01-03-02-02-02-15.wav\n",
            "03-01-02-02-01-01-01.wav\n",
            "03-01-06-01-02-01-18.wav\n",
            "03-01-07-02-01-02-03.wav\n",
            "03-01-02-01-02-01-16.wav\n",
            "03-01-06-02-01-01-04.wav\n",
            "03-01-06-02-01-01-19.wav\n",
            "03-01-06-01-01-01-20.wav\n",
            "03-01-03-02-02-02-24.wav\n",
            "03-01-03-02-02-02-19.wav\n",
            "03-01-02-02-01-01-23.wav\n",
            "03-01-06-01-01-01-12.wav\n",
            "03-01-02-01-02-02-13.wav\n",
            "03-01-07-01-01-02-19.wav\n",
            "03-01-07-01-01-02-23.wav\n",
            "03-01-03-02-02-01-14.wav\n",
            "03-01-07-01-01-02-08.wav\n",
            "03-01-07-01-02-01-12.wav\n",
            "03-01-07-01-01-01-10.wav\n",
            "03-01-07-01-01-02-06.wav\n",
            "03-01-03-01-01-02-13.wav\n",
            "03-01-07-01-02-01-16.wav\n",
            "03-01-03-01-02-02-17.wav\n",
            "03-01-07-01-01-01-08.wav\n",
            "03-01-02-01-02-02-07.wav\n",
            "03-01-03-01-02-01-15.wav\n",
            "03-01-02-02-02-02-06.wav\n",
            "03-01-06-01-01-02-09.wav\n",
            "03-01-07-01-01-02-04.wav\n",
            "03-01-06-01-01-02-02.wav\n",
            "03-01-03-02-02-01-08.wav\n",
            "03-01-07-01-02-01-22.wav\n",
            "03-01-07-02-01-01-17.wav\n",
            "03-01-07-01-01-01-15.wav\n",
            "03-01-06-01-01-02-10.wav\n",
            "03-01-07-02-02-01-12.wav\n",
            "03-01-06-02-01-02-22.wav\n",
            "03-01-06-01-02-02-02.wav\n",
            "03-01-03-01-02-01-18.wav\n",
            "03-01-07-01-01-02-02.wav\n",
            "03-01-06-01-02-01-15.wav\n",
            "03-01-03-02-02-01-21.wav\n",
            "03-01-06-02-02-02-12.wav\n",
            "03-01-07-02-01-01-05.wav\n",
            "03-01-06-01-02-01-16.wav\n",
            "03-01-07-01-02-02-07.wav\n",
            "03-01-07-01-02-02-01.wav\n",
            "03-01-06-01-02-01-21.wav\n",
            "03-01-06-02-02-01-23.wav\n",
            "03-01-03-02-01-01-24.wav\n",
            "03-01-07-02-02-02-13.wav\n",
            "03-01-02-02-02-01-02.wav\n",
            "03-01-03-01-01-02-03.wav\n",
            "03-01-02-02-02-01-04.wav\n",
            "03-01-06-02-01-01-14.wav\n",
            "03-01-02-01-02-01-02.wav\n",
            "03-01-07-02-02-01-17.wav\n"
          ]
        }
      ]
    },
    {
      "cell_type": "code",
      "metadata": {
        "id": "Nw_g-vdNUgKO",
        "colab": {
          "base_uri": "https://localhost:8080/"
        },
        "outputId": "6d403bef-06be-458d-e8bb-cc5d036c55c4"
      },
      "source": [
        "#Get the shape of the training and testing datasets\n",
        "# print((x_train.shape[0], x_test.shape[0]))\n",
        "print((x_train[0], x_test[0]))\n",
        "#Get the number of features extracted\n",
        "print(f'Features extracted: {x_train.shape[1]}')"
      ],
      "execution_count": 73,
      "outputs": [
        {
          "output_type": "stream",
          "name": "stdout",
          "text": [
            "(array([-3.86344238e+02,  6.09063416e+01, -3.01394367e+01,  1.13427353e+01,\n",
            "       -2.36910629e+01, -1.43559656e+01, -3.23676567e+01, -2.80847073e+01,\n",
            "       -1.09371166e+01, -1.68263931e+01, -6.30211115e+00, -2.67360363e+01,\n",
            "       -5.45562935e+00, -1.27265081e+01, -2.36432648e+01, -6.92295361e+00,\n",
            "       -1.31441565e+01, -1.62244587e+01, -7.51474047e+00, -3.08752728e+00,\n",
            "       -6.95668554e+00,  2.97044373e+00,  3.26372385e-01,  1.24864924e+00,\n",
            "       -1.38225353e+00, -4.08523411e-01,  9.19907856e+00,  1.54340572e+01,\n",
            "        9.61527443e+00,  5.08328581e+00,  1.70945942e+00,  6.66152620e+00,\n",
            "        5.40964746e+00,  6.67300177e+00, -2.66441852e-01, -1.89593458e+00,\n",
            "        1.13295722e+00, -3.97149324e-01, -4.09819698e+00, -1.12877309e+00,\n",
            "        4.21118140e-01,  5.48758388e-01,  5.30478954e-01,  4.69171941e-01,\n",
            "        5.13857901e-01,  5.87624371e-01,  4.79016364e-01,  5.16669154e-01,\n",
            "        6.23308659e-01,  6.17032528e-01,  5.32242119e-01,  4.30788696e-01,\n",
            "        1.19038168e-05,  9.23881089e-06,  2.86044524e-05,  2.67173473e-05,\n",
            "        4.84241136e-05,  1.19466307e-02,  7.11638778e-02,  2.37719536e-01,\n",
            "        8.49965334e-01,  4.25254047e-01,  1.42005295e-01,  3.49566042e-01,\n",
            "        1.10584639e-01,  1.12477895e-02,  2.55020931e-02,  5.55287339e-02,\n",
            "        4.65497077e-01,  5.09349763e-01,  2.40536988e-01,  1.90287456e-01,\n",
            "        1.02325544e-01,  5.44638894e-02,  1.17003374e-01,  1.06996477e-01,\n",
            "        1.59507871e-01,  2.88458019e-01,  1.12176470e-01,  8.89821425e-02,\n",
            "        3.47019583e-01,  1.71967298e-01,  1.25287428e-01,  6.34517074e-02,\n",
            "        3.78363580e-02,  1.60632599e-02,  1.36406170e-02,  1.42511791e-02,\n",
            "        1.45110413e-02,  6.93077967e-02,  9.26271528e-02,  2.67265253e-02,\n",
            "        4.08375775e-03,  2.65756040e-03,  3.01032490e-03,  6.22601295e-03,\n",
            "        7.18972459e-03,  1.39218559e-02,  5.20990863e-02,  1.01195358e-01,\n",
            "        5.30497916e-02,  1.39239933e-02,  8.62555299e-03,  8.49657133e-03,\n",
            "        8.92740488e-03,  9.50488914e-03,  5.30550815e-02,  6.01055436e-02,\n",
            "        6.08396046e-02,  3.67963798e-02,  1.71551146e-02,  9.66441538e-03,\n",
            "        4.94773546e-03,  4.09061741e-03,  1.58796795e-02,  8.15350469e-03,\n",
            "        4.81829885e-03,  5.04296785e-03,  1.64816007e-02,  1.02894790e-02,\n",
            "        4.00569849e-03,  2.28351261e-03,  3.24170524e-03,  2.21951748e-03,\n",
            "        1.08346122e-03,  3.71655158e-04,  4.89490514e-04,  1.02854602e-03,\n",
            "        2.74699810e-03,  2.48179445e-03,  9.98023781e-04,  2.06674892e-03,\n",
            "        4.91348282e-03,  2.84234597e-03,  3.80475097e-03,  8.56136624e-03,\n",
            "        5.76068740e-03,  4.99609346e-03,  5.00660716e-03,  1.25053595e-03,\n",
            "        8.74513702e-04,  5.61897876e-04,  4.22644604e-04,  4.46925405e-04,\n",
            "        4.77189606e-04,  6.72977418e-04,  4.94877982e-04,  1.20070588e-03,\n",
            "        1.04049046e-03,  2.05321633e-03,  2.73220544e-03,  3.02290707e-03,\n",
            "        2.00097123e-03,  1.16080255e-03,  9.54152318e-04,  7.90249149e-04,\n",
            "        6.97888026e-04,  6.09014824e-04,  4.44276258e-04,  5.20155532e-04,\n",
            "        2.51188641e-04,  1.51173255e-04,  1.62489916e-04,  2.04687181e-04,\n",
            "        1.57826013e-04,  1.11903850e-04,  1.39835989e-04,  1.68694314e-04,\n",
            "        2.13152598e-04,  2.47375341e-04,  2.23112176e-04,  2.86660041e-04,\n",
            "        5.08040888e-04,  2.63560214e-04,  1.37235809e-04,  8.98316794e-05,\n",
            "        1.26468804e-04,  1.36716742e-04,  1.01837984e-04,  1.06375439e-04]), array([-3.38001038e+02,  5.53647537e+01, -2.73597584e+01,  2.56828284e+00,\n",
            "       -1.42244654e+01, -1.61548595e+01, -2.97912846e+01, -1.47859554e+01,\n",
            "       -2.53522186e+01,  1.26992017e-01, -1.45470963e+01, -1.23280821e+01,\n",
            "       -7.28971767e+00, -1.08812675e+01, -9.86509228e+00, -1.35086021e+01,\n",
            "       -9.51218605e+00,  3.91044885e-01,  1.44856918e+00,  1.19878254e+01,\n",
            "        1.82912064e+01,  1.55649338e+01,  9.04487514e+00,  8.77267170e+00,\n",
            "       -9.14337575e-01,  1.39470333e-02,  3.26253200e+00,  4.55177259e+00,\n",
            "        2.51889324e+00,  2.10645866e+00,  1.18064177e+00,  2.60363030e+00,\n",
            "       -1.50534046e+00, -3.91778207e+00, -3.89941692e+00,  4.13565397e+00,\n",
            "        5.37007666e+00,  7.71390259e-01, -1.95769978e+00, -5.28952479e-01,\n",
            "        4.75566953e-01,  5.74116826e-01,  6.61599457e-01,  6.45987451e-01,\n",
            "        5.66317916e-01,  4.69685584e-01,  4.34203386e-01,  3.76122922e-01,\n",
            "        4.82978076e-01,  4.84045684e-01,  4.26018149e-01,  4.44365412e-01,\n",
            "        8.98802537e-04,  1.46312494e-04,  3.11891636e-04,  4.30192536e-04,\n",
            "        2.99637992e-04,  6.01758657e-04,  1.07658561e-03,  2.52444181e-03,\n",
            "        8.02992508e-02,  2.64689326e-01,  4.47962493e-01,  1.12839556e+00,\n",
            "        1.42987394e+00,  1.75679684e+00,  7.79590726e-01,  1.10138789e-01,\n",
            "        2.28862744e-02,  1.12544242e-02,  1.35885840e-02,  2.61446610e-02,\n",
            "        6.86044320e-02,  2.01798216e-01,  1.67114496e+00,  3.79181767e+00,\n",
            "        5.06680346e+00,  6.39973307e+00,  6.85950136e+00,  3.07265568e+00,\n",
            "        2.10894680e+00,  2.52303332e-01,  9.89490747e-02,  2.48763580e-02,\n",
            "        1.78470835e-02,  2.56263912e-01,  5.14033735e-01,  4.27236557e-01,\n",
            "        2.85171509e-01,  3.46959978e-01,  2.47674584e-01,  1.38420880e-01,\n",
            "        9.57591906e-02,  2.56179184e-01,  1.58460581e+00,  1.07282162e+00,\n",
            "        3.58866841e-01,  3.82290274e-01,  4.80815619e-02,  1.25106171e-01,\n",
            "        7.60387123e-01,  1.15427256e+00,  6.92010939e-01,  3.50802094e-01,\n",
            "        7.77659416e-02,  8.02858844e-02,  1.29712835e-01,  1.53082713e-01,\n",
            "        3.00172120e-01,  5.81711888e-01,  6.47111297e-01,  1.53113768e-01,\n",
            "        3.25670615e-02,  4.21931371e-02,  4.39914353e-02,  9.12221670e-02,\n",
            "        1.55938789e-01,  1.28011078e-01,  3.28542441e-02,  1.94632001e-02,\n",
            "        2.07987633e-02,  9.41084027e-02,  5.07732816e-02,  2.95810979e-02,\n",
            "        5.33412509e-02,  4.77384850e-02,  1.59210898e-02,  3.62020321e-02,\n",
            "        3.40656973e-02,  1.23655207e-01,  8.17319751e-02,  6.31715134e-02,\n",
            "        3.15731950e-02,  1.55334622e-02,  1.65948197e-02,  1.60693079e-02,\n",
            "        6.79563638e-03,  1.14694163e-02,  2.77731437e-02,  3.85590233e-02,\n",
            "        1.88205671e-02,  7.87431840e-03,  1.36876656e-02,  7.85596669e-03,\n",
            "        4.43690550e-03,  5.02177607e-03,  4.14146762e-03,  1.04879029e-03,\n",
            "        1.93706690e-03,  3.01541574e-03,  3.40871094e-03,  3.43122124e-03,\n",
            "        2.07323255e-03,  3.46830976e-03,  3.07493540e-03,  2.74856854e-03,\n",
            "        5.89264650e-03,  5.33679919e-03,  8.83581676e-03,  1.18596107e-02,\n",
            "        1.02530234e-02,  1.67410038e-02,  1.50763979e-02,  1.38488105e-02,\n",
            "        1.36792753e-02,  8.06885492e-03,  4.46261000e-03,  3.83073278e-03,\n",
            "        2.90824194e-03,  1.74844323e-03,  2.41549476e-03,  3.76177975e-03,\n",
            "        2.62391753e-03,  2.28194334e-03,  3.23657505e-03,  2.22553639e-03,\n",
            "        1.73796085e-03,  1.47356244e-03,  7.34192843e-04,  5.21198206e-04]))\n",
            "Features extracted: 180\n"
          ]
        }
      ]
    },
    {
      "cell_type": "code",
      "metadata": {
        "id": "e2915GICUgKO"
      },
      "source": [
        "\n",
        "# Initialize the Multi Layer Perceptron Classifier\n",
        "model=MLPClassifier(alpha=0.01, batch_size=256, epsilon=1e-08, hidden_layer_sizes=(300,), learning_rate='adaptive', max_iter=500)"
      ],
      "execution_count": 74,
      "outputs": []
    },
    {
      "cell_type": "code",
      "metadata": {
        "id": "Ppps_g0AUgKP",
        "colab": {
          "base_uri": "https://localhost:8080/"
        },
        "outputId": "e9497eee-0d9e-4c13-eb74-df8a87365bc4"
      },
      "source": [
        "#Train the model\n",
        "model.fit(x_train,y_train)"
      ],
      "execution_count": 75,
      "outputs": [
        {
          "output_type": "execute_result",
          "data": {
            "text/plain": [
              "MLPClassifier(activation='relu', alpha=0.01, batch_size=256, beta_1=0.9,\n",
              "              beta_2=0.999, early_stopping=False, epsilon=1e-08,\n",
              "              hidden_layer_sizes=(300,), learning_rate='adaptive',\n",
              "              learning_rate_init=0.001, max_fun=15000, max_iter=500,\n",
              "              momentum=0.9, n_iter_no_change=10, nesterovs_momentum=True,\n",
              "              power_t=0.5, random_state=None, shuffle=True, solver='adam',\n",
              "              tol=0.0001, validation_fraction=0.1, verbose=False,\n",
              "              warm_start=False)"
            ]
          },
          "metadata": {},
          "execution_count": 75
        }
      ]
    },
    {
      "cell_type": "code",
      "metadata": {
        "id": "cLgE5NEFUgKQ"
      },
      "source": [
        "\n",
        "#SAVING THE MODEL\n",
        "import pickle\n",
        "# Save the Modle to file in the current working directory\n",
        "#For any new testing data other than the data in dataset\n",
        "\n",
        "Pkl_Filename = \"SK83.pkl\"  \n",
        "\n",
        "with open(Pkl_Filename, 'wb') as file:  \n",
        "    pickle.dump(model, file)"
      ],
      "execution_count": 80,
      "outputs": []
    },
    {
      "cell_type": "code",
      "metadata": {
        "id": "5uvAkEU4UgKR",
        "colab": {
          "base_uri": "https://localhost:8080/"
        },
        "outputId": "0741e142-2b6e-45f3-8754-bf62202a36e8"
      },
      "source": [
        "# Load the Model back from file\n",
        "with open(Pkl_Filename, 'rb') as file:  \n",
        "    Emotion_Voice_Detection_Model = pickle.load(file)\n",
        "\n",
        "Emotion_Voice_Detection_Model"
      ],
      "execution_count": 81,
      "outputs": [
        {
          "output_type": "execute_result",
          "data": {
            "text/plain": [
              "MLPClassifier(activation='relu', alpha=0.01, batch_size=256, beta_1=0.9,\n",
              "              beta_2=0.999, early_stopping=False, epsilon=1e-08,\n",
              "              hidden_layer_sizes=(300,), learning_rate='adaptive',\n",
              "              learning_rate_init=0.001, max_fun=15000, max_iter=500,\n",
              "              momentum=0.9, n_iter_no_change=10, nesterovs_momentum=True,\n",
              "              power_t=0.5, random_state=None, shuffle=True, solver='adam',\n",
              "              tol=0.0001, validation_fraction=0.1, verbose=False,\n",
              "              warm_start=False)"
            ]
          },
          "metadata": {},
          "execution_count": 81
        }
      ]
    },
    {
      "cell_type": "code",
      "metadata": {
        "id": "WIrMqZeCUgKR",
        "colab": {
          "base_uri": "https://localhost:8080/"
        },
        "outputId": "05a961e9-7368-4697-bf87-ecddfa2678b9"
      },
      "source": [
        "#predicting :\n",
        "y_pred=model.predict(x_test)\n",
        "y_pred"
      ],
      "execution_count": 76,
      "outputs": [
        {
          "output_type": "execute_result",
          "data": {
            "text/plain": [
              "array(['happy', 'calm', 'calm', 'calm', 'fearful', 'calm', 'happy',\n",
              "       'disgust', 'fearful', 'fearful', 'calm', 'calm', 'fearful', 'calm',\n",
              "       'fearful', 'disgust', 'fearful', 'happy', 'fearful', 'calm',\n",
              "       'happy', 'calm', 'disgust', 'disgust', 'calm', 'fearful', 'happy',\n",
              "       'fearful', 'fearful', 'happy', 'fearful', 'fearful', 'calm',\n",
              "       'disgust', 'disgust', 'happy', 'disgust', 'disgust', 'calm',\n",
              "       'disgust', 'happy', 'disgust', 'fearful', 'disgust', 'calm',\n",
              "       'happy', 'calm', 'fearful', 'disgust', 'fearful', 'happy', 'happy',\n",
              "       'disgust', 'disgust', 'calm', 'disgust', 'fearful', 'fearful',\n",
              "       'happy', 'disgust', 'fearful', 'happy', 'fearful', 'disgust',\n",
              "       'fearful', 'disgust', 'disgust', 'fearful', 'happy', 'happy',\n",
              "       'disgust', 'calm', 'happy', 'calm', 'happy', 'calm', 'disgust'],\n",
              "      dtype='<U7')"
            ]
          },
          "metadata": {},
          "execution_count": 76
        }
      ]
    },
    {
      "cell_type": "code",
      "metadata": {
        "id": "tvJAuVPdUgKS",
        "colab": {
          "base_uri": "https://localhost:8080/"
        },
        "outputId": "22e42b22-8d77-43dd-bab9-02f2fa8fb8a1"
      },
      "source": [
        "#Store the Prediction probabilities into CSV file \n",
        "import numpy as np\n",
        "import pandas as pd\n",
        "y_pred1 = pd.DataFrame(y_pred, columns=['predictions'])\n",
        "y_pred1['file_names'] = test_filename\n",
        "print(y_pred1)\n",
        "y_pred1.to_csv('predictionfinalsk1.csv')"
      ],
      "execution_count": 63,
      "outputs": [
        {
          "output_type": "stream",
          "name": "stdout",
          "text": [
            "    predictions                file_names\n",
            "0       fearful  03-01-03-02-01-01-14.wav\n",
            "1          calm  03-01-02-01-01-02-22.wav\n",
            "2          calm  03-01-02-01-01-01-04.wav\n",
            "3          calm  03-01-07-01-01-01-20.wav\n",
            "4       fearful  03-01-06-01-02-01-04.wav\n",
            "..          ...                       ...\n",
            "249        calm  03-01-02-02-01-02-16.wav\n",
            "250        calm  03-01-02-01-01-01-02.wav\n",
            "251        calm  03-01-02-01-01-02-21.wav\n",
            "252     fearful  03-01-02-01-02-02-01.wav\n",
            "253        calm  03-01-02-01-01-02-12.wav\n",
            "\n",
            "[254 rows x 2 columns]\n"
          ]
        }
      ]
    },
    {
      "cell_type": "code",
      "metadata": {
        "id": "PpHj6H61UgKS",
        "colab": {
          "base_uri": "https://localhost:8080/",
          "height": 352
        },
        "outputId": "9dbf6512-ecfc-490b-f74e-be0b8f95ac98"
      },
      "source": [
        "#The file 'output10.wav' in the next cell is the file that was recorded live using the code :\n",
        "data, sampling_rate = librosa.load('/content/drive/MyDrive/Clean_Speech/03-01-01-01-01-01-02.wav')\n",
        "%matplotlib inline\n",
        "import os\n",
        "import pandas as pd\n",
        "import librosa.display\n",
        "import glob \n",
        "\n",
        "plt.figure(figsize=(15, 5))\n",
        "librosa.display.waveplot(data, sr=sampling_rate)"
      ],
      "execution_count": 78,
      "outputs": [
        {
          "output_type": "execute_result",
          "data": {
            "text/plain": [
              "<matplotlib.collections.PolyCollection at 0x7f1662d1bbd0>"
            ]
          },
          "metadata": {},
          "execution_count": 78
        },
        {
          "output_type": "display_data",
          "data": {
            "image/png": "[encoded data removed]",
            "text/plain": [
              "<Figure size 1080x360 with 1 Axes>"
            ]
          },
          "metadata": {
            "needs_background": "light"
          }
        }
      ]
    },
    {
      "cell_type": "code",
      "metadata": {
        "colab": {
          "base_uri": "https://localhost:8080/"
        },
        "id": "LgaMV2WVb3tx",
        "outputId": "82f7fcdd-823b-4c8c-a79f-174c7bcb5cfb"
      },
      "source": [
        "from google.colab import drive\n",
        "drive.mount('/content/drive')"
      ],
      "execution_count": null,
      "outputs": [
        {
          "output_type": "stream",
          "name": "stdout",
          "text": [
            "Drive already mounted at /content/drive; to attempt to forcibly remount, call drive.mount(\"/content/drive\", force_remount=True).\n"
          ]
        }
      ]
    },
    {
      "cell_type": "code",
      "metadata": {
        "id": "IEgj2rfxUgKT",
        "colab": {
          "base_uri": "https://localhost:8080/",
          "height": 78
        },
        "outputId": "2f24803a-35f4-46f9-c6a0-a2ab8d65a240"
      },
      "source": [
        "## Appying extract_feature function on random file and then loading model to predict the result \n",
        "file = '/content/drive/MyDrive/Clean_Speech/03-01-01-01-01-01-02.wav'\n",
        "# data , sr = librosa.load(file)\n",
        "# data = np.array(data)\n",
        "ans =[]\n",
        "new_feature= extract_feature(file, mfcc=True, chroma=True, mel=True)\n",
        "ans.append(new_feature)\n",
        "ans = np.array(ans)\n",
        "#data.shape\n",
        "\n",
        "\n",
        "prediction=Emotion_Voice_Detection_Model.predict([ans[0]]) \n",
        "final_emotion=pd.DataFrame(prediction, columns = ['Emotion Prediction'])\n",
        "final_emotion\n",
        "\n"
      ],
      "execution_count": 82,
      "outputs": [
        {
          "output_type": "execute_result",
          "data": {
            "text/html": [
              "<div>\n",
              "<style scoped>\n",
              "    .dataframe tbody tr th:only-of-type {\n",
              "        vertical-align: middle;\n",
              "    }\n",
              "\n",
              "    .dataframe tbody tr th {\n",
              "        vertical-align: top;\n",
              "    }\n",
              "\n",
              "    .dataframe thead th {\n",
              "        text-align: right;\n",
              "    }\n",
              "</style>\n",
              "<table border=\"1\" class=\"dataframe\">\n",
              "  <thead>\n",
              "    <tr style=\"text-align: right;\">\n",
              "      <th></th>\n",
              "      <th>Emotion Prediction</th>\n",
              "    </tr>\n",
              "  </thead>\n",
              "  <tbody>\n",
              "    <tr>\n",
              "      <th>0</th>\n",
              "      <td>calm</td>\n",
              "    </tr>\n",
              "  </tbody>\n",
              "</table>\n",
              "</div>"
            ],
            "text/plain": [
              "  Emotion Prediction\n",
              "0               calm"
            ]
          },
          "metadata": {},
          "execution_count": 82
        }
      ]
    },
    {
      "cell_type": "code",
      "metadata": {
        "id": "ZGGBbfL7fZVi"
      },
      "source": [
        "model.score(x_test,y_test)\n",
        "output=model.predict(x_test)"
      ],
      "execution_count": 83,
      "outputs": []
    },
    {
      "cell_type": "code",
      "metadata": {
        "colab": {
          "base_uri": "https://localhost:8080/"
        },
        "id": "VGk_2_pLe4EZ",
        "outputId": "d7c52e06-d07b-4d14-9777-92963354898c"
      },
      "source": [
        "from sklearn.metrics import accuracy_score\n",
        "accuracy_score(y_test,output)"
      ],
      "execution_count": 84,
      "outputs": [
        {
          "output_type": "execute_result",
          "data": {
            "text/plain": [
              "0.8311688311688312"
            ]
          },
          "metadata": {},
          "execution_count": 84
        }
      ]
    },
    {
      "cell_type": "code",
      "metadata": {
        "colab": {
          "base_uri": "https://localhost:8080/"
        },
        "id": "-0p_jdBMfPDy",
        "outputId": "25a087bc-48d7-4047-b1ee-1675b1d2349d"
      },
      "source": [
        "#DataFlair - Calculate the accuracy of our model\n",
        "accuracy=accuracy_score(y_test, output)\n",
        "\n",
        "#DataFlair - Print the accuracy\n",
        "print(\"Accuracy: {:.2f}%\".format(accuracy*100))"
      ],
      "execution_count": 85,
      "outputs": [
        {
          "output_type": "stream",
          "name": "stdout",
          "text": [
            "Accuracy: 83.12%\n"
          ]
        }
      ]
    }
  ]
}